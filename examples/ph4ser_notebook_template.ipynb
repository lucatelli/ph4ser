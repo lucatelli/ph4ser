{
 "cells": [
  {
   "cell_type": "code",
   "execution_count": null,
   "id": "e23f5cb3-954e-46f8-980b-5fdf63a51ecb",
   "metadata": {},
   "outputs": [],
   "source": [
    "import os\n",
    "import sys\n",
    "sys.path.append('../ph4ser/')\n",
    "\n",
    "def reload_libs():\n",
    "    \"\"\"\n",
    "    This allows you to reload the library file without restarting the kernel.\n",
    "    \n",
    "    Usage:\n",
    "    In [1]: reload_libs()\n",
    "    \"\"\"\n",
    "    import mlibs as mlibs\n",
    "    from importlib import reload\n",
    "    reload(mlibs)\n",
    "    import ph4ser as ph4\n",
    "    reload(ph4)"
   ]
  },
  {
   "cell_type": "code",
   "execution_count": null,
   "id": "ade3ba1f-ab36-4f61-a7a1-89521094aa10",
   "metadata": {},
   "outputs": [],
   "source": [
    "config = ph4.Configuration()\n",
    "config.cell_size = None\n",
    "config.receiver = None\n",
    "config.imsize = int(2.5*1024)\n",
    "config.imsizey = int(2.5*1024)\n",
    "steps = [\n",
    "    'startup',          # create directory structure, start variables and clear visibilities.\n",
    "#     'fov_image',      # create a FOV image\n",
    "    'save_init_flags',  # save (or restore) the initial flags\n",
    "    'statwt',           # run statwt on the initial data\n",
    "    'autoflag_init',    # run rflag on the initial data -- use for L and S band data.\n",
    "    'test_image',       # create a test image\n",
    "    'select_refant',    # select reference antenna\n",
    "    'p0',               # initial test  of selfcal, phase only (p)\n",
    "    'p1',               # redo phase-only selfcal (if enough flux density); ignores p0\n",
    "    'p2',               # continue phase-only selfcal (incremental)\n",
    "    'ap1',              # amp-selfcal (ap); uses p0 or (p1 and p2)\n",
    "    'split_trial_1',    # split the data after first trial (and run wsclean)\n",
    "    # 'autoflag_final',   # run rflag on the final data (use for L and S band data)\n",
    "    'report_results'    # report results of first trial\n",
    "]"
   ]
  },
  {
   "cell_type": "code",
   "execution_count": null,
   "id": "9433f399",
   "metadata": {},
   "outputs": [],
   "source": [
    "pipeline = ph4.Pipeline(config)"
   ]
  },
  {
   "cell_type": "code",
   "execution_count": null,
   "id": "123a7244-19fa-4f29-ad6c-2145dafdfc29",
   "metadata": {},
   "outputs": [],
   "source": [
    "config.path = \"/media/sagauga/galnet/LIRGI_Sample/VLA-Archive/A_config/23A-324/C_band/MCG+12-02-001/autoselfcal/\"\n",
    "config.field = \"MCG12-02-001\"\n",
    "config.vis_name = \"MCG12-02-001.calibrated.avg\"\n",
    "config.savename = \"_A_C_sf\"\n",
    "config.visibility_info = {'path':config.path,\n",
    "                          'field':config.field,\n",
    "                          'vis_name':config.vis_name,\n",
    "                          'savename':config.savename\n",
    "                         }\n",
    "\n",
    "print(config.visibility_info)"
   ]
  },
  {
   "cell_type": "code",
   "execution_count": null,
   "id": "fabec690-809c-4524-a63c-b145cc2d5d93",
   "metadata": {
    "scrolled": true
   },
   "outputs": [],
   "source": [
    "pipeline.run_step('startup')\n",
    "config.cell_size = pipeline.get_cell_size(pipeline.g_vis)\n",
    "print(f\"Cell size = {config.cell_size}\")\n",
    "config.receiver = pipeline.check_band(pipeline.g_vis)\n",
    "print(f\"Receiver = {config.receiver}\")"
   ]
  },
  {
   "cell_type": "code",
   "execution_count": null,
   "id": "8c9a0a4c-6986-4906-9147-15c1845e1bdd",
   "metadata": {
    "scrolled": true
   },
   "outputs": [],
   "source": [
    "if 'save_init_flags' in config.steps:\n",
    "    pipeline.run_step('save_init_flags')\n",
    "if 'statwt' in config.steps:\n",
    "    pipeline.run_step('statwt')\n",
    "if 'autoflag_init' in config.steps:\n",
    "    pipeline.run_step('autoflag_init')"
   ]
  },
  {
   "cell_type": "code",
   "execution_count": null,
   "id": "a3dd95f0-043e-411b-9ffc-d9309a4ae317",
   "metadata": {},
   "outputs": [],
   "source": [
    "if 'test_image' in config.steps:\n",
    "    pipeline.run_step('test_image')\n",
    "pipeline.check_init_parameters()"
   ]
  },
  {
   "cell_type": "code",
   "execution_count": null,
   "id": "238d6b50-5f54-4c76-bcc2-f83ea896f290",
   "metadata": {},
   "outputs": [],
   "source": [
    "if 'select_refant' in config.steps:\n",
    "    pipeline.run_step('select_refant')\n",
    "\n",
    "if 'p0' in config.steps:\n",
    "    pipeline.run_step('p0')\n",
    "pipeline.check_p0_parameters()"
   ]
  },
  {
   "cell_type": "code",
   "execution_count": null,
   "id": "be0efd6c-d1da-41d6-94a1-0e073db48f23",
   "metadata": {},
   "outputs": [],
   "source": [
    "if (('p1' in config.steps) and ('p1' not in pipeline.steps_performed) and\n",
    "        ('p1' in pipeline.parameter_selection['p0_pos'])):\n",
    "    pipeline.run_step('p1')"
   ]
  },
  {
   "cell_type": "code",
   "execution_count": null,
   "id": "63d31e78",
   "metadata": {},
   "outputs": [],
   "source": [
    "if (('p2' in config.steps)\n",
    "        and ('p2' not in pipeline.steps_performed)\n",
    "        and ('p2' in pipeline.parameter_selection['p0_pos'])):\n",
    "    pipeline.run_step('p2')"
   ]
  },
  {
   "cell_type": "code",
   "execution_count": null,
   "id": "0470fa37",
   "metadata": {},
   "outputs": [],
   "source": [
    "if (('ap1' in config.steps) and\n",
    "        ('ap1' not in pipeline.steps_performed) and\n",
    "        ('ap1' in pipeline.parameter_selection['p0_pos'].keys())):\n",
    "    pipeline.run_step('ap1')"
   ]
  },
  {
   "cell_type": "code",
   "execution_count": null,
   "id": "6c45a6ac",
   "metadata": {},
   "outputs": [],
   "source": [
    "if 'split_trial_1' in config.steps:\n",
    "    pipeline.run_step('split_trial_1')\n",
    "\n",
    "# if 'autoflag_final' in config.steps:\n",
    "#     pipeline.run_step('autoflag_final')\n",
    "\n",
    "if 'report_results' in config.steps:\n",
    "    pipeline.run_step('report_results')"
   ]
  }
 ],
 "metadata": {
  "kernelspec": {
   "display_name": "Python 3 (ipykernel)",
   "language": "python",
   "name": "python3"
  },
  "language_info": {
   "codemirror_mode": {
    "name": "ipython",
    "version": 3
   },
   "file_extension": ".py",
   "mimetype": "text/x-python",
   "name": "python",
   "nbconvert_exporter": "python",
   "pygments_lexer": "ipython3",
   "version": "3.8.18"
  },
  "widgets": {
   "application/vnd.jupyter.widget-state+json": {
    "state": {},
    "version_major": 2,
    "version_minor": 0
   }
  }
 },
 "nbformat": 4,
 "nbformat_minor": 5
}
